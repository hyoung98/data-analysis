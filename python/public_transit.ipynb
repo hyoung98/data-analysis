{
 "cells": [
  {
   "cell_type": "markdown",
   "id": "8e1f952a",
   "metadata": {},
   "source": [
    "# 대중교통 통계자료 (승하차 승객수 분석)\n",
    "\n",
    "자료이용\n",
    "\n",
    "- 티머니 카드&페이 -> 이용안내 -> 대중교통 통계자료\n",
    "- https://pay.tmoney.co.kr/index.dev"
   ]
  },
  {
   "cell_type": "code",
   "execution_count": 1,
   "id": "9eeb310d",
   "metadata": {},
   "outputs": [],
   "source": [
    "import pandas as pd\n",
    "import seaborn as sns\n",
    "import numpy as np\n",
    "import matplotlib.pyplot as plt\n",
    "\n",
    "sns.set_theme(style='whitegrid')"
   ]
  },
  {
   "cell_type": "code",
   "execution_count": 2,
   "id": "0feef8ea",
   "metadata": {},
   "outputs": [
    {
     "name": "stderr",
     "output_type": "stream",
     "text": [
      "C:\\Users\\user\\AppData\\Local\\Temp\\ipykernel_3996\\2863771375.py:6: DeprecationWarning: `set_matplotlib_formats` is deprecated since IPython 7.23, directly use `matplotlib_inline.backend_inline.set_matplotlib_formats()`\n",
      "  set_matplotlib_formats(\"retina\")\n"
     ]
    }
   ],
   "source": [
    "# 한글폰트 설정\n",
    "plt.rc(\"font\",family=\"Malgun Gothic\")\n",
    "plt.rc(\"axes\",unicode_minus=False)\n",
    "# 선명하게 설정\n",
    "from IPython.display import set_matplotlib_formats\n",
    "set_matplotlib_formats(\"retina\")"
   ]
  },
  {
   "cell_type": "code",
   "execution_count": 3,
   "id": "aa689ecc",
   "metadata": {},
   "outputs": [],
   "source": [
    "df = pd.read_csv(\"data/2022_01 교통카드 통계자료.csv\", encoding='cp949')"
   ]
  },
  {
   "cell_type": "code",
   "execution_count": 4,
   "id": "0904deca",
   "metadata": {},
   "outputs": [
    {
     "data": {
      "text/html": [
       "<div>\n",
       "<style scoped>\n",
       "    .dataframe tbody tr th:only-of-type {\n",
       "        vertical-align: middle;\n",
       "    }\n",
       "\n",
       "    .dataframe tbody tr th {\n",
       "        vertical-align: top;\n",
       "    }\n",
       "\n",
       "    .dataframe thead th {\n",
       "        text-align: right;\n",
       "    }\n",
       "</style>\n",
       "<table border=\"1\" class=\"dataframe\">\n",
       "  <thead>\n",
       "    <tr style=\"text-align: right;\">\n",
       "      <th></th>\n",
       "      <th>사용월</th>\n",
       "      <th>호선명</th>\n",
       "      <th>역ID</th>\n",
       "      <th>지하철역</th>\n",
       "      <th>승차승객수</th>\n",
       "      <th>하차승객수</th>\n",
       "      <th>작업일시</th>\n",
       "    </tr>\n",
       "  </thead>\n",
       "  <tbody>\n",
       "    <tr>\n",
       "      <th>0</th>\n",
       "      <td>2022-01</td>\n",
       "      <td>1호선</td>\n",
       "      <td>1</td>\n",
       "      <td>서울역</td>\n",
       "      <td>1,085,116</td>\n",
       "      <td>1,045,157</td>\n",
       "      <td>2022-02-03 08:49:58</td>\n",
       "    </tr>\n",
       "    <tr>\n",
       "      <th>1</th>\n",
       "      <td>2022-01</td>\n",
       "      <td>1호선</td>\n",
       "      <td>10</td>\n",
       "      <td>동묘앞</td>\n",
       "      <td>242,998</td>\n",
       "      <td>251,102</td>\n",
       "      <td>2022-02-03 08:49:58</td>\n",
       "    </tr>\n",
       "    <tr>\n",
       "      <th>2</th>\n",
       "      <td>2022-01</td>\n",
       "      <td>1호선</td>\n",
       "      <td>2</td>\n",
       "      <td>시청</td>\n",
       "      <td>505,634</td>\n",
       "      <td>505,751</td>\n",
       "      <td>2022-02-03 08:49:58</td>\n",
       "    </tr>\n",
       "    <tr>\n",
       "      <th>3</th>\n",
       "      <td>2022-01</td>\n",
       "      <td>1호선</td>\n",
       "      <td>3</td>\n",
       "      <td>종각</td>\n",
       "      <td>828,219</td>\n",
       "      <td>793,362</td>\n",
       "      <td>2022-02-03 08:49:58</td>\n",
       "    </tr>\n",
       "    <tr>\n",
       "      <th>4</th>\n",
       "      <td>2022-01</td>\n",
       "      <td>1호선</td>\n",
       "      <td>4</td>\n",
       "      <td>종로3가</td>\n",
       "      <td>650,549</td>\n",
       "      <td>596,054</td>\n",
       "      <td>2022-02-03 08:49:58</td>\n",
       "    </tr>\n",
       "  </tbody>\n",
       "</table>\n",
       "</div>"
      ],
      "text/plain": [
       "       사용월  호선명  역ID  지하철역      승차승객수      하차승객수                 작업일시\n",
       "0  2022-01  1호선    1   서울역  1,085,116  1,045,157  2022-02-03 08:49:58\n",
       "1  2022-01  1호선   10   동묘앞    242,998    251,102  2022-02-03 08:49:58\n",
       "2  2022-01  1호선    2    시청    505,634    505,751  2022-02-03 08:49:58\n",
       "3  2022-01  1호선    3    종각    828,219    793,362  2022-02-03 08:49:58\n",
       "4  2022-01  1호선    4  종로3가    650,549    596,054  2022-02-03 08:49:58"
      ]
     },
     "execution_count": 4,
     "metadata": {},
     "output_type": "execute_result"
    }
   ],
   "source": [
    "df.head()"
   ]
  },
  {
   "cell_type": "code",
   "execution_count": 5,
   "id": "eacfbf2d",
   "metadata": {},
   "outputs": [],
   "source": [
    "# 필요한 데이터만 뽑기\n",
    "columns = ['호선명', '지하철역', '승차승객수', '하차승객수']\n",
    "df_transit = df[columns].copy()"
   ]
  },
  {
   "cell_type": "code",
   "execution_count": 6,
   "id": "a05306bd",
   "metadata": {},
   "outputs": [
    {
     "data": {
      "text/html": [
       "<div>\n",
       "<style scoped>\n",
       "    .dataframe tbody tr th:only-of-type {\n",
       "        vertical-align: middle;\n",
       "    }\n",
       "\n",
       "    .dataframe tbody tr th {\n",
       "        vertical-align: top;\n",
       "    }\n",
       "\n",
       "    .dataframe thead th {\n",
       "        text-align: right;\n",
       "    }\n",
       "</style>\n",
       "<table border=\"1\" class=\"dataframe\">\n",
       "  <thead>\n",
       "    <tr style=\"text-align: right;\">\n",
       "      <th></th>\n",
       "      <th>호선명</th>\n",
       "      <th>지하철역</th>\n",
       "      <th>승차승객수</th>\n",
       "      <th>하차승객수</th>\n",
       "    </tr>\n",
       "  </thead>\n",
       "  <tbody>\n",
       "    <tr>\n",
       "      <th>0</th>\n",
       "      <td>1호선</td>\n",
       "      <td>서울역</td>\n",
       "      <td>1,085,116</td>\n",
       "      <td>1,045,157</td>\n",
       "    </tr>\n",
       "    <tr>\n",
       "      <th>1</th>\n",
       "      <td>1호선</td>\n",
       "      <td>동묘앞</td>\n",
       "      <td>242,998</td>\n",
       "      <td>251,102</td>\n",
       "    </tr>\n",
       "    <tr>\n",
       "      <th>2</th>\n",
       "      <td>1호선</td>\n",
       "      <td>시청</td>\n",
       "      <td>505,634</td>\n",
       "      <td>505,751</td>\n",
       "    </tr>\n",
       "    <tr>\n",
       "      <th>3</th>\n",
       "      <td>1호선</td>\n",
       "      <td>종각</td>\n",
       "      <td>828,219</td>\n",
       "      <td>793,362</td>\n",
       "    </tr>\n",
       "    <tr>\n",
       "      <th>4</th>\n",
       "      <td>1호선</td>\n",
       "      <td>종로3가</td>\n",
       "      <td>650,549</td>\n",
       "      <td>596,054</td>\n",
       "    </tr>\n",
       "  </tbody>\n",
       "</table>\n",
       "</div>"
      ],
      "text/plain": [
       "   호선명  지하철역      승차승객수      하차승객수\n",
       "0  1호선   서울역  1,085,116  1,045,157\n",
       "1  1호선   동묘앞    242,998    251,102\n",
       "2  1호선    시청    505,634    505,751\n",
       "3  1호선    종각    828,219    793,362\n",
       "4  1호선  종로3가    650,549    596,054"
      ]
     },
     "execution_count": 6,
     "metadata": {},
     "output_type": "execute_result"
    }
   ],
   "source": [
    "df_transit.head()"
   ]
  },
  {
   "cell_type": "code",
   "execution_count": 7,
   "id": "ac9d7116",
   "metadata": {},
   "outputs": [
    {
     "data": {
      "text/html": [
       "<div>\n",
       "<style scoped>\n",
       "    .dataframe tbody tr th:only-of-type {\n",
       "        vertical-align: middle;\n",
       "    }\n",
       "\n",
       "    .dataframe tbody tr th {\n",
       "        vertical-align: top;\n",
       "    }\n",
       "\n",
       "    .dataframe thead th {\n",
       "        text-align: right;\n",
       "    }\n",
       "</style>\n",
       "<table border=\"1\" class=\"dataframe\">\n",
       "  <thead>\n",
       "    <tr style=\"text-align: right;\">\n",
       "      <th></th>\n",
       "      <th>호선명</th>\n",
       "      <th>지하철역</th>\n",
       "      <th>승차승객수</th>\n",
       "      <th>하차승객수</th>\n",
       "    </tr>\n",
       "  </thead>\n",
       "  <tbody>\n",
       "    <tr>\n",
       "      <th>605</th>\n",
       "      <td>우이신설선</td>\n",
       "      <td>북한산보국문</td>\n",
       "      <td>155,081</td>\n",
       "      <td>147,294</td>\n",
       "    </tr>\n",
       "    <tr>\n",
       "      <th>606</th>\n",
       "      <td>우이신설선</td>\n",
       "      <td>정릉</td>\n",
       "      <td>118,944</td>\n",
       "      <td>108,183</td>\n",
       "    </tr>\n",
       "    <tr>\n",
       "      <th>607</th>\n",
       "      <td>우이신설선</td>\n",
       "      <td>성신여대입구(돈암)</td>\n",
       "      <td>88,081</td>\n",
       "      <td>97,012</td>\n",
       "    </tr>\n",
       "    <tr>\n",
       "      <th>608</th>\n",
       "      <td>우이신설선</td>\n",
       "      <td>보문</td>\n",
       "      <td>39,276</td>\n",
       "      <td>38,693</td>\n",
       "    </tr>\n",
       "    <tr>\n",
       "      <th>609</th>\n",
       "      <td>우이신설선</td>\n",
       "      <td>신설동</td>\n",
       "      <td>53,794</td>\n",
       "      <td>51,850</td>\n",
       "    </tr>\n",
       "  </tbody>\n",
       "</table>\n",
       "</div>"
      ],
      "text/plain": [
       "       호선명        지하철역    승차승객수    하차승객수\n",
       "605  우이신설선      북한산보국문  155,081  147,294\n",
       "606  우이신설선          정릉  118,944  108,183\n",
       "607  우이신설선  성신여대입구(돈암)   88,081   97,012\n",
       "608  우이신설선          보문   39,276   38,693\n",
       "609  우이신설선         신설동   53,794   51,850"
      ]
     },
     "execution_count": 7,
     "metadata": {},
     "output_type": "execute_result"
    }
   ],
   "source": [
    "df_transit.tail()"
   ]
  },
  {
   "cell_type": "code",
   "execution_count": 8,
   "id": "c1b321fe",
   "metadata": {},
   "outputs": [
    {
     "name": "stdout",
     "output_type": "stream",
     "text": [
      "<class 'pandas.core.frame.DataFrame'>\n",
      "RangeIndex: 610 entries, 0 to 609\n",
      "Data columns (total 4 columns):\n",
      " #   Column  Non-Null Count  Dtype \n",
      "---  ------  --------------  ----- \n",
      " 0   호선명     610 non-null    object\n",
      " 1   지하철역    610 non-null    object\n",
      " 2   승차승객수   610 non-null    object\n",
      " 3   하차승객수   610 non-null    object\n",
      "dtypes: object(4)\n",
      "memory usage: 19.2+ KB\n"
     ]
    }
   ],
   "source": [
    "df_transit.info()"
   ]
  },
  {
   "cell_type": "code",
   "execution_count": 9,
   "id": "4d3f1e64",
   "metadata": {},
   "outputs": [],
   "source": [
    "df_transit = df_transit.astype({'승차승객수' : 'str'})\n",
    "df_transit = df_transit.astype({'하차승객수' : 'str'})\n",
    "\n",
    "df_transit['승차승객수'] = df_transit['승차승객수'].str.replace(',', '') # 공백 없애기\n",
    "df_transit['하차승객수'] = df_transit['하차승객수'].str.replace(',', '') # 공백 없애기"
   ]
  },
  {
   "cell_type": "code",
   "execution_count": 10,
   "id": "8022fd87",
   "metadata": {},
   "outputs": [],
   "source": [
    "# 계산을 위해서 int로 변환\n",
    "df_transit = df_transit.astype({'승차승객수' : 'int'})\n",
    "df_transit = df_transit.astype({'하차승객수' : 'int'})"
   ]
  },
  {
   "cell_type": "code",
   "execution_count": 11,
   "id": "6c85faa1",
   "metadata": {
    "scrolled": true
   },
   "outputs": [
    {
     "data": {
      "text/plain": [
       "호선명      0\n",
       "지하철역     0\n",
       "승차승객수    0\n",
       "하차승객수    0\n",
       "dtype: int64"
      ]
     },
     "execution_count": 11,
     "metadata": {},
     "output_type": "execute_result"
    }
   ],
   "source": [
    "df_transit.isnull().sum()"
   ]
  },
  {
   "cell_type": "code",
   "execution_count": 12,
   "id": "7485bfa8",
   "metadata": {},
   "outputs": [
    {
     "data": {
      "text/plain": [
       "array(['1호선', '2호선', '3호선', '4호선', '경부선', '경인선', '경원선', '안산선', '과천선',\n",
       "       '분당선', '일산선', '중앙선', '장항선', '경의선', '경춘선', '수인선', '경강선', '5호선',\n",
       "       '6호선', '7호선', '8호선', '9호선', '공항철도 1호선', '9호선2~3단계', '우이신설선'],\n",
       "      dtype=object)"
      ]
     },
     "execution_count": 12,
     "metadata": {},
     "output_type": "execute_result"
    }
   ],
   "source": [
    "df_transit['호선명'].unique()"
   ]
  },
  {
   "cell_type": "code",
   "execution_count": 13,
   "id": "9cd9aed3",
   "metadata": {},
   "outputs": [
    {
     "data": {
      "text/html": [
       "<div>\n",
       "<style scoped>\n",
       "    .dataframe tbody tr th:only-of-type {\n",
       "        vertical-align: middle;\n",
       "    }\n",
       "\n",
       "    .dataframe tbody tr th {\n",
       "        vertical-align: top;\n",
       "    }\n",
       "\n",
       "    .dataframe thead th {\n",
       "        text-align: right;\n",
       "    }\n",
       "</style>\n",
       "<table border=\"1\" class=\"dataframe\">\n",
       "  <thead>\n",
       "    <tr style=\"text-align: right;\">\n",
       "      <th></th>\n",
       "      <th>호선명</th>\n",
       "      <th>지하철역</th>\n",
       "      <th>승차승객수</th>\n",
       "      <th>하차승객수</th>\n",
       "    </tr>\n",
       "  </thead>\n",
       "  <tbody>\n",
       "    <tr>\n",
       "      <th>0</th>\n",
       "      <td>1호선</td>\n",
       "      <td>서울역</td>\n",
       "      <td>1085116</td>\n",
       "      <td>1045157</td>\n",
       "    </tr>\n",
       "    <tr>\n",
       "      <th>1</th>\n",
       "      <td>1호선</td>\n",
       "      <td>동묘앞</td>\n",
       "      <td>242998</td>\n",
       "      <td>251102</td>\n",
       "    </tr>\n",
       "    <tr>\n",
       "      <th>2</th>\n",
       "      <td>1호선</td>\n",
       "      <td>시청</td>\n",
       "      <td>505634</td>\n",
       "      <td>505751</td>\n",
       "    </tr>\n",
       "    <tr>\n",
       "      <th>3</th>\n",
       "      <td>1호선</td>\n",
       "      <td>종각</td>\n",
       "      <td>828219</td>\n",
       "      <td>793362</td>\n",
       "    </tr>\n",
       "    <tr>\n",
       "      <th>4</th>\n",
       "      <td>1호선</td>\n",
       "      <td>종로3가</td>\n",
       "      <td>650549</td>\n",
       "      <td>596054</td>\n",
       "    </tr>\n",
       "  </tbody>\n",
       "</table>\n",
       "</div>"
      ],
      "text/plain": [
       "   호선명  지하철역    승차승객수    하차승객수\n",
       "0  1호선   서울역  1085116  1045157\n",
       "1  1호선   동묘앞   242998   251102\n",
       "2  1호선    시청   505634   505751\n",
       "3  1호선    종각   828219   793362\n",
       "4  1호선  종로3가   650549   596054"
      ]
     },
     "execution_count": 13,
     "metadata": {},
     "output_type": "execute_result"
    }
   ],
   "source": [
    "df_transit.head()"
   ]
  },
  {
   "cell_type": "code",
   "execution_count": 14,
   "id": "5c83d025",
   "metadata": {},
   "outputs": [
    {
     "data": {
      "text/plain": [
       "31     2200763\n",
       "25     1846733\n",
       "39     1645306\n",
       "48     1557231\n",
       "41     1458026\n",
       "        ...   \n",
       "475          5\n",
       "519          3\n",
       "331          3\n",
       "332          1\n",
       "330          1\n",
       "Name: 승차승객수, Length: 610, dtype: int32"
      ]
     },
     "execution_count": 14,
     "metadata": {},
     "output_type": "execute_result"
    }
   ],
   "source": [
    "df_transit['승차승객수'].sort_values(ascending = False)"
   ]
  },
  {
   "cell_type": "code",
   "execution_count": 15,
   "id": "84574ac6",
   "metadata": {},
   "outputs": [],
   "source": [
    "# 승차승객수로 정렬하기\n",
    "df_ascending = df_transit.sort_values(by=['승차승객수'], ascending=[False])\n",
    "df_ascending_2 = df_transit.sort_values(by=['하차승객수'], ascending=[False])"
   ]
  },
  {
   "cell_type": "code",
   "execution_count": 16,
   "id": "80944cd8",
   "metadata": {},
   "outputs": [],
   "source": [
    "df_ascending_head = df_ascending.head(10)\n",
    "df_ascending_2_head = df_ascending_2.head(10)"
   ]
  },
  {
   "cell_type": "code",
   "execution_count": 17,
   "id": "1b3ae02e",
   "metadata": {},
   "outputs": [
    {
     "data": {
      "image/png": "[encoded data removed]",
      "text/plain": [
       "<Figure size 1080x360 with 1 Axes>"
      ]
     },
     "metadata": {
      "image/png": {
       "height": 334,
       "width": 893
      },
      "needs_background": "light"
     },
     "output_type": "display_data"
    }
   ],
   "source": [
    "plt.figure(figsize=(15,5))\n",
    "plt.xticks(fontsize=10)\n",
    "plt.yticks(fontsize=12)\n",
    "# plt.title(\"수학 점수 분포\", fontsize = 20)\n",
    "sns.barplot(data = df_ascending_head, x=\"지하철역\", y=\"승차승객수\")\n",
    "plt.show()\n",
    "\n",
    "# 승차승객수는 강남 -> 잠실 -> 신림 -> 홍대입구 -> 구로디지털단지 -> 선릉 -> 삼성 -> 역삼 -> 서울대입구 -> 신도림 "
   ]
  },
  {
   "cell_type": "code",
   "execution_count": 18,
   "id": "f2ef01aa",
   "metadata": {},
   "outputs": [
    {
     "data": {
      "image/png": "[encoded data removed]",
      "text/plain": [
       "<Figure size 1080x360 with 1 Axes>"
      ]
     },
     "metadata": {
      "image/png": {
       "height": 334,
       "width": 899
      },
      "needs_background": "light"
     },
     "output_type": "display_data"
    }
   ],
   "source": [
    "plt.figure(figsize=(15,5))\n",
    "plt.xticks(fontsize=10)\n",
    "plt.yticks(fontsize=12)\n",
    "sns.barplot(data = df_ascending_2_head, x=\"지하철역\", y=\"하차승객수\")\n",
    "plt.show()\n",
    "\n",
    "# 하차승객수는 강남 -> 잠실 -> 신림 -> 홍대입구 -> 구로디지털단지 -> 역삼 -> 삼성 -> 신도림 -> 서울대입구 -> 고속터미널 "
   ]
  },
  {
   "cell_type": "markdown",
   "id": "1ccba260",
   "metadata": {},
   "source": [
    "### 정리\n",
    "\n",
    "- 승하차의 승객수가 가장 많은 top5 지하철역은 강남, 잠실, 신림, 홍대입구, 구로디지털단지 이다."
   ]
  },
  {
   "cell_type": "code",
   "execution_count": null,
   "id": "53ce3ee9",
   "metadata": {},
   "outputs": [],
   "source": []
  },
  {
   "cell_type": "code",
   "execution_count": null,
   "id": "6faa82ec",
   "metadata": {},
   "outputs": [],
   "source": []
  }
 ],
 "metadata": {
  "kernelspec": {
   "display_name": "Python 3 (ipykernel)",
   "language": "python",
   "name": "python3"
  },
  "language_info": {
   "codemirror_mode": {
    "name": "ipython",
    "version": 3
   },
   "file_extension": ".py",
   "mimetype": "text/x-python",
   "name": "python",
   "nbconvert_exporter": "python",
   "pygments_lexer": "ipython3",
   "version": "3.8.13"
  }
 },
 "nbformat": 4,
 "nbformat_minor": 5
}
